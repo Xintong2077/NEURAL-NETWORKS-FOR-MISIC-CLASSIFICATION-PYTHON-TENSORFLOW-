{
 "cells": [
  {
   "cell_type": "markdown",
   "metadata": {
    "colab_type": "text",
    "id": "7Bl9h4sIpPfF"
   },
   "source": [
    "# Lab:  Neural Networks for Music Classification\n",
    "\n",
    "In addition to the concepts in the [MNIST neural network demo](./demo2_mnist_neural.ipynb), in this lab, you will learn to:\n",
    "* Load a file from a URL\n",
    "* Extract simple features from audio samples for machine learning tasks such as speech recognition and classification\n",
    "* Build a simple neural network for music classification using these features\n",
    "* Use a callback to store the loss and accuracy history in the training process\n",
    "* Optimize the learning rate of the neural network\n",
    "\n",
    "To illustrate the basic concepts, we will look at a relatively simple music classification problem.  Given a sample of music, we want to determine which instrument (e.g. trumpet, violin, piano) is playing.  This dataset was generously supplied by [Prof. Juan Bello](http://steinhardt.nyu.edu/faculty/Juan_Pablo_Bello) at NYU Stenihardt  and his former PhD student Eric Humphrey (now at Spotify).  They have a complete website dedicated to deep learning methods in music informatics:\n",
    "\n",
    "http://marl.smusic.nyu.edu/wordpress/projects/feature-learning-deep-architectures/deep-learning-python-tutorial/\n",
    "\n",
    "You can also check out Juan's <a href=\"http://www.nyu.edu/classes/bello/ACA.html\">course</a>.\n",
    "\n"
   ]
  },
  {
   "cell_type": "markdown",
   "metadata": {
    "colab_type": "text",
    "id": "UyFCTmeZpPfL"
   },
   "source": [
    "## Loading Tensorflow\n",
    "\n",
    "Before starting this lab, you will need to install [Tensorflow](https://www.tensorflow.org/install/).  If you are using [Google colaboratory](https://colab.research.google.com), Tensorflow is already installed.  Run the following command to ensure Tensorflow is installed."
   ]
  },
  {
   "cell_type": "code",
   "execution_count": 0,
   "metadata": {
    "colab": {},
    "colab_type": "code",
    "id": "o3elZIWwpPfT"
   },
   "outputs": [],
   "source": [
    "import tensorflow as tf"
   ]
  },
  {
   "cell_type": "markdown",
   "metadata": {
    "colab_type": "text",
    "id": "cqfDYaaSpPfg"
   },
   "source": [
    "Then, load the other packages."
   ]
  },
  {
   "cell_type": "code",
   "execution_count": 0,
   "metadata": {
    "colab": {},
    "colab_type": "code",
    "id": "jVW3FRtkpPfk"
   },
   "outputs": [],
   "source": [
    "import numpy as np\n",
    "import matplotlib\n",
    "import matplotlib.pyplot as plt\n",
    "%matplotlib inline"
   ]
  },
  {
   "cell_type": "markdown",
   "metadata": {
    "colab_type": "text",
    "id": "UhaP7A2vpPfs"
   },
   "source": [
    "## Audio Feature Extraction with Librosa\n",
    "\n",
    "The key to audio classification is to extract the correct features. In addition to `keras`, we will need the `librosa` package.  The `librosa` package in python has a rich set of methods extracting the features of audio samples commonly used in machine learning tasks such as speech recognition and sound classification. \n",
    "\n",
    "Installation instructions and complete documentation for the package are given on the [librosa main page](https://librosa.github.io/librosa/).  On most systems, you should be able to simply use:\n",
    "\n",
    "    pip install -u librosa\n",
    "    \n",
    "For Unix, you may need to load some additional packages:\n",
    "\n",
    "    sudo apt-get install build-essential\n",
    "    sudo apt-get install libxext-dev python-qt4 qt4-dev-tools\n",
    "    pip install librosa\n",
    "    \n",
    "After you have installed the package, try to import it."
   ]
  },
  {
   "cell_type": "code",
   "execution_count": 0,
   "metadata": {
    "colab": {},
    "colab_type": "code",
    "id": "pb0gvqm9pPfu"
   },
   "outputs": [],
   "source": [
    "import librosa\n",
    "import librosa.display\n",
    "import librosa.feature"
   ]
  },
  {
   "cell_type": "markdown",
   "metadata": {
    "colab_type": "text",
    "id": "rc2bfq9ppPfz"
   },
   "source": [
    "In this lab, we will use a set of music samples from the website:\n",
    "\n",
    "http://theremin.music.uiowa.edu\n",
    "\n",
    "This website has a great set of samples for audio processing.  Look on the web for how to use the `requests.get` and `file.write` commands to load the file at the URL provided into your working directory.\n",
    "\n",
    "You can play the audio sample by copying the file to your local machine and playing it on any media player.  If you listen to it you will hear a soprano saxaphone (with vibrato) playing four notes (C, C#, D, Eb)."
   ]
  },
  {
   "cell_type": "code",
   "execution_count": 4,
   "metadata": {
    "colab": {
     "base_uri": "https://localhost:8080/",
     "height": 53
    },
    "colab_type": "code",
    "id": "2ycJPmuRpPf2",
    "outputId": "0580a060-6cc2-4b43-833a-4defe4a3f1ea"
   },
   "outputs": [
    {
     "name": "stdout",
     "output_type": "stream",
     "text": [
      "Beginning file download with requests\n",
      "File downloads complete\n"
     ]
    }
   ],
   "source": [
    "import requests\n",
    "fn = \"SopSax.Vib.pp.C6Eb6.aiff\"\n",
    "url = \"http://theremin.music.uiowa.edu/sound files/MIS/Woodwinds/sopranosaxophone/\"+fn\n",
    "\n",
    "# TODO:  Load the file from url and save it in a file under the name fn\n",
    "\n",
    "print('Beginning file download with requests')\n",
    "file = requests.get(url)\n",
    "\n",
    "with open(fn, 'wb') as f:\n",
    "  f.write(file.content)\n",
    "  \n",
    "print('File downloads complete')"
   ]
  },
  {
   "cell_type": "markdown",
   "metadata": {
    "colab_type": "text",
    "id": "o0WOgm2mpPf-"
   },
   "source": [
    "Next, use `librosa` command `librosa.load` to read the audio file with filename `fn` and get the samples `y` and sample rate `sr`."
   ]
  },
  {
   "cell_type": "code",
   "execution_count": 5,
   "metadata": {
    "colab": {
     "base_uri": "https://localhost:8080/",
     "height": 72
    },
    "colab_type": "code",
    "id": "CbHaVIURpPgB",
    "outputId": "110ab871-74b4-4692-ef93-05d65d80c610"
   },
   "outputs": [
    {
     "name": "stdout",
     "output_type": "stream",
     "text": [
      "[ 0.          0.          0.         ... -0.00396729 -0.00411987\n",
      " -0.0038147 ]\n",
      "44100\n"
     ]
    }
   ],
   "source": [
    "# TODO\n",
    "y, sr = librosa.load(fn,sr=None)\n",
    "print(y)\n",
    "print(sr)"
   ]
  },
  {
   "cell_type": "markdown",
   "metadata": {
    "colab_type": "text",
    "id": "pU4ws5lLpPgL"
   },
   "source": [
    "Extracting features from audio files is an entire subject on its own right.  A commonly used set of features are called the Mel Frequency Cepstral Coefficients (MFCCs).  These are derived from the so-called mel spectrogram which is something like a regular spectrogram, but the power and frequency are represented in log scale, which more naturally aligns with human perceptual processing.  You can run the code below to display the mel spectrogram from the audio sample.\n",
    "\n",
    "You can easily see the four notes played in the audio track.  You also see the 'harmonics' of each notes, which are other tones at integer multiples of the fundamental frequency of each note."
   ]
  },
  {
   "cell_type": "code",
   "execution_count": 6,
   "metadata": {
    "colab": {
     "base_uri": "https://localhost:8080/",
     "height": 297
    },
    "colab_type": "code",
    "id": "UF0Yt_vNpPgM",
    "outputId": "10266057-3be5-4d07-9ac5-9e3f4808231c"
   },
   "outputs": [
    {
     "data": {
      "image/png": "[encoded data removed]",
      "text/plain": [
       "<Figure size 432x288 with 2 Axes>"
      ]
     },
     "metadata": {
      "tags": []
     },
     "output_type": "display_data"
    }
   ],
   "source": [
    "S = librosa.feature.melspectrogram(y=y, sr=sr, n_mels=128, fmax=8000)\n",
    "librosa.display.specshow(librosa.amplitude_to_db(S),\n",
    "                         y_axis='mel', fmax=8000, x_axis='time')\n",
    "plt.colorbar(format='%+2.0f dB')\n",
    "plt.title('Mel spectrogram')\n",
    "plt.tight_layout()"
   ]
  },
  {
   "cell_type": "markdown",
   "metadata": {
    "colab_type": "text",
    "id": "rYjmtItLpPgV"
   },
   "source": [
    "## Downloading the Data\n",
    "\n",
    "Using the MFCC features described above, Eric Humphrey and Juan Bellow have created a complete data set that can used for instrument classification.  Essentially, they collected a number of data files from the website above.  For each audio file, they segmented the track into notes and then extracted 120 MFCCs for each note.  The goal is to recognize the instrument from the 120 MFCCs.  The process of feature extraction is quite involved.  So, we will just use their processed data provided at:\n",
    "\n",
    "https://github.com/marl/dl4mir-tutorial/blob/master/README.md\n",
    "\n",
    "Note the password.  Load the four files into some directory, say  `instrument_dataset`.  Then, load them with the commands."
   ]
  },
  {
   "cell_type": "code",
   "execution_count": 7,
   "metadata": {
    "colab": {
     "base_uri": "https://localhost:8080/",
     "height": 128
    },
    "colab_type": "code",
    "id": "1Z84zcQ33T1J",
    "outputId": "de430c48-56a1-4891-caae-679a4b5b59f7"
   },
   "outputs": [
    {
     "name": "stdout",
     "output_type": "stream",
     "text": [
      "Go to this URL in a browser: https://accounts.google.com/o/oauth2/auth?client_id=947318989803-6bn6qk8qdgf4n4g3pfee6491hc0brc4i.apps.googleusercontent.com&redirect_uri=urn%3Aietf%3Awg%3Aoauth%3A2.0%3Aoob&scope=email%20https%3A%2F%2Fwww.googleapis.com%2Fauth%2Fdocs.test%20https%3A%2F%2Fwww.googleapis.com%2Fauth%2Fdrive%20https%3A%2F%2Fwww.googleapis.com%2Fauth%2Fdrive.photos.readonly%20https%3A%2F%2Fwww.googleapis.com%2Fauth%2Fpeopleapi.readonly&response_type=code\n",
      "\n",
      "Enter your authorization code:\n",
      "··········\n",
      "Mounted at /content/drive\n"
     ]
    }
   ],
   "source": [
    "# Load the Drive helper and mount\n",
    "from google.colab import drive\n",
    "\n",
    "# This will prompt for authorization.\n",
    "drive.mount('/content/drive')"
   ]
  },
  {
   "cell_type": "code",
   "execution_count": 0,
   "metadata": {
    "colab": {},
    "colab_type": "code",
    "id": "G-YViRkPpPgY"
   },
   "outputs": [],
   "source": [
    "data_dir = '/content/drive/My Drive/Colab Notebooks/instrument_dataset/'\n",
    "Xtr = np.load(data_dir+'uiowa_train_data.npy')\n",
    "ytr = np.load(data_dir+'uiowa_train_labels.npy')\n",
    "Xts = np.load(data_dir+'uiowa_test_data.npy')\n",
    "yts = np.load(data_dir+'uiowa_test_labels.npy')"
   ]
  },
  {
   "cell_type": "markdown",
   "metadata": {
    "colab_type": "text",
    "id": "8QNdiTBGpPgk"
   },
   "source": [
    "Looking at the data files:\n",
    "* What are the number of training and test samples?\n",
    "* What is the number of features for each sample?\n",
    "* How many classes (i.e. instruments) are there per class?\n"
   ]
  },
  {
   "cell_type": "code",
   "execution_count": 9,
   "metadata": {
    "colab": {
     "base_uri": "https://localhost:8080/",
     "height": 108
    },
    "colab_type": "code",
    "id": "qWY7-IAOpPgm",
    "outputId": "916912b6-3d91-491a-bf06-d773a42d0eef"
   },
   "outputs": [
    {
     "name": "stdout",
     "output_type": "stream",
     "text": [
      "# of training samples = 66247\n",
      "# of test samples = 14904\n",
      "# of features for training samples = 120\n",
      "# of features for test samples = 120\n",
      "# of classes = 10\n"
     ]
    }
   ],
   "source": [
    "# TODO\n",
    "print('# of training samples =',ytr.shape[0])\n",
    "print('# of test samples =',yts.shape[0])\n",
    "print('# of features for training samples =',Xtr.shape[1])\n",
    "print('# of features for test samples =',Xts.shape[1])\n",
    "print('# of classes =',int(max(ytr)+1))"
   ]
  },
  {
   "cell_type": "markdown",
   "metadata": {
    "colab_type": "text",
    "id": "Bf3JlyQRpPgq"
   },
   "source": [
    "Before continuing, you must scale the training and test data, `Xtr` and `Xts`.  Compute the mean and std deviation of each feature in `Xtr` and create a new training data set, `Xtr_scale`, by subtracting the mean and dividing by the std deviation.  Also compute a scaled test data set, `Xts_scale` using the mean and std deviation learned from the training data set."
   ]
  },
  {
   "cell_type": "code",
   "execution_count": 0,
   "metadata": {
    "colab": {},
    "colab_type": "code",
    "id": "mhjnXUn3pPgs"
   },
   "outputs": [],
   "source": [
    "# TODO Scale the training and test matrices\n",
    "Xtr_mean = np.mean(Xtr, axis = 0)\n",
    "Xtr_std = np.std(Xtr, axis = 0)\n",
    "\n",
    "Xtr_scale = (Xtr - Xtr_mean[None,:]) / Xtr_std[None,:]\n",
    "Xts_scale = (Xts - Xtr_mean[None,:]) / Xtr_std[None,:]\n"
   ]
  },
  {
   "cell_type": "markdown",
   "metadata": {
    "colab_type": "text",
    "collapsed": true,
    "id": "tWYSeUQkpPgx"
   },
   "source": [
    "## Building a Neural Network Classifier\n",
    "\n",
    "Following the example in [MNIST neural network demo](./mnist_neural.ipynb), clear the keras session.  Then, create a neural network `model` with:\n",
    "* `nh=256` hidden units\n",
    "* `sigmoid` activation\n",
    "* select the input and output shapes correctly\n",
    "* print the model summary"
   ]
  },
  {
   "cell_type": "code",
   "execution_count": 0,
   "metadata": {
    "colab": {},
    "colab_type": "code",
    "id": "XlIL7omtpPg1"
   },
   "outputs": [],
   "source": [
    "from tensorflow.keras.models import Model, Sequential\n",
    "from tensorflow.keras.layers import Dense, Activation\n",
    "import tensorflow.keras.backend as K\n"
   ]
  },
  {
   "cell_type": "code",
   "execution_count": 0,
   "metadata": {
    "colab": {},
    "colab_type": "code",
    "id": "yFoUwiKnpPhA"
   },
   "outputs": [],
   "source": [
    "# TODO clear session\n",
    "K.clear_session()"
   ]
  },
  {
   "cell_type": "code",
   "execution_count": 0,
   "metadata": {
    "colab": {},
    "colab_type": "code",
    "id": "j9OYttgWazqI"
   },
   "outputs": [],
   "source": [
    "# Create callback class\n",
    "class History(tf.keras.callbacks.Callback):\n",
    "    def on_train_begin(self, logs={}):\n",
    "        self.losses = []\n",
    "        self.accuracies = []\n",
    "        self.valueaccuracies = []\n",
    "\n",
    "    def on_batch_end(self, batch, logs={}):\n",
    "        self.losses.append(logs.get('loss'))\n",
    "        self.accuracies.append(logs.get('acc'))\n",
    "        self.valueaccuracies.append(logs.get('val_acc'))"
   ]
  },
  {
   "cell_type": "code",
   "execution_count": 14,
   "metadata": {
    "colab": {
     "base_uri": "https://localhost:8080/",
     "height": 92
    },
    "colab_type": "code",
    "id": "dfayixompPhF",
    "outputId": "acbd0721-539b-44cb-93a2-edd6edec4698"
   },
   "outputs": [
    {
     "name": "stdout",
     "output_type": "stream",
     "text": [
      "WARNING:tensorflow:From /usr/local/lib/python3.6/dist-packages/tensorflow/python/ops/resource_variable_ops.py:435: colocate_with (from tensorflow.python.framework.ops) is deprecated and will be removed in a future version.\n",
      "Instructions for updating:\n",
      "Colocations handled automatically by placer.\n"
     ]
    }
   ],
   "source": [
    "# TODO: construct the model\n",
    "nin = Xtr.shape[1]  # dimension of input data\n",
    "nh = 256    # number of hidden units\n",
    "nout = int(np.max(ytr)+1)  # number of outputs\n",
    "model = Sequential()\n",
    "model.add(Dense(units=nh, input_shape=(nin,), activation='sigmoid', name='hidden'))\n",
    "model.add(Dense(units=nout, activation='sigmoid', name='output'))"
   ]
  },
  {
   "cell_type": "code",
   "execution_count": 15,
   "metadata": {
    "colab": {
     "base_uri": "https://localhost:8080/",
     "height": 217
    },
    "colab_type": "code",
    "id": "UGO6CmoMpPhK",
    "outputId": "26b7f7f4-6e27-452b-c48f-92d746783126"
   },
   "outputs": [
    {
     "name": "stdout",
     "output_type": "stream",
     "text": [
      "_________________________________________________________________\n",
      "Layer (type)                 Output Shape              Param #   \n",
      "=================================================================\n",
      "hidden (Dense)               (None, 256)               30976     \n",
      "_________________________________________________________________\n",
      "output (Dense)               (None, 10)                2570      \n",
      "=================================================================\n",
      "Total params: 33,546\n",
      "Trainable params: 33,546\n",
      "Non-trainable params: 0\n",
      "_________________________________________________________________\n"
     ]
    }
   ],
   "source": [
    "# TODO:  Print the model summary\n",
    "model.summary()"
   ]
  },
  {
   "cell_type": "markdown",
   "metadata": {
    "colab_type": "text",
    "id": "5GahcWOxpPhU"
   },
   "source": [
    "Create an optimizer and compile the model.  Select the appropriate loss function and metrics.  For the optimizer, use the Adam optimizer with a learning rate of 0.001"
   ]
  },
  {
   "cell_type": "code",
   "execution_count": 0,
   "metadata": {
    "colab": {},
    "colab_type": "code",
    "id": "Svvon7pJpPhY",
    "scrolled": true
   },
   "outputs": [],
   "source": [
    "# TODO\n",
    "\n",
    "from tensorflow.keras import optimizers\n",
    "\n",
    "opt = optimizers.Adam(lr=0.001)\n",
    "model.compile(optimizer=opt,\n",
    "              loss='sparse_categorical_crossentropy',\n",
    "              metrics=['accuracy'])"
   ]
  },
  {
   "cell_type": "markdown",
   "metadata": {
    "colab_type": "text",
    "id": "yvgFbEY5pPhi"
   },
   "source": [
    "Fit the model for 10 epochs using the scaled data for both the training and validation.  Use the `validation_data` option to pass the test data.  Also, pass the callback class create above.  Use a batch size of 100.  Your final accuracy should be >99%."
   ]
  },
  {
   "cell_type": "code",
   "execution_count": 17,
   "metadata": {
    "colab": {
     "base_uri": "https://localhost:8080/",
     "height": 419
    },
    "colab_type": "code",
    "id": "Z3uZg92YpPhj",
    "outputId": "65729040-6d6a-4cea-83b9-05d81ce7f085",
    "scrolled": true
   },
   "outputs": [
    {
     "name": "stdout",
     "output_type": "stream",
     "text": [
      "Train on 66247 samples, validate on 14904 samples\n",
      "Epoch 1/10\n",
      "66247/66247 [==============================] - 4s 53us/sample - loss: 0.3750 - acc: 0.9024 - val_loss: 0.1745 - val_acc: 0.9487\n",
      "Epoch 2/10\n",
      "66247/66247 [==============================] - 3s 41us/sample - loss: 0.0948 - acc: 0.9777 - val_loss: 0.0926 - val_acc: 0.9715\n",
      "Epoch 3/10\n",
      "66247/66247 [==============================] - 3s 41us/sample - loss: 0.0567 - acc: 0.9867 - val_loss: 0.0588 - val_acc: 0.9855\n",
      "Epoch 4/10\n",
      "66247/66247 [==============================] - 3s 41us/sample - loss: 0.0400 - acc: 0.9902 - val_loss: 0.0471 - val_acc: 0.9885\n",
      "Epoch 5/10\n",
      "66247/66247 [==============================] - 3s 41us/sample - loss: 0.0307 - acc: 0.9923 - val_loss: 0.0406 - val_acc: 0.9891\n",
      "Epoch 6/10\n",
      "66247/66247 [==============================] - 3s 40us/sample - loss: 0.0240 - acc: 0.9940 - val_loss: 0.0328 - val_acc: 0.9907\n",
      "Epoch 7/10\n",
      "66247/66247 [==============================] - 3s 41us/sample - loss: 0.0202 - acc: 0.9950 - val_loss: 0.0328 - val_acc: 0.9902\n",
      "Epoch 8/10\n",
      "66247/66247 [==============================] - 3s 41us/sample - loss: 0.0172 - acc: 0.9955 - val_loss: 0.0266 - val_acc: 0.9925\n",
      "Epoch 9/10\n",
      "66247/66247 [==============================] - 3s 41us/sample - loss: 0.0145 - acc: 0.9963 - val_loss: 0.0242 - val_acc: 0.9928\n",
      "Epoch 10/10\n",
      "66247/66247 [==============================] - 3s 40us/sample - loss: 0.0130 - acc: 0.9966 - val_loss: 0.0251 - val_acc: 0.9915\n"
     ]
    }
   ],
   "source": [
    "# TODO\n",
    "history = History()\n",
    "hist = model.fit(Xtr_scale, ytr, epochs=10, batch_size=100, validation_data=(Xts_scale,yts), callbacks = [history])"
   ]
  },
  {
   "cell_type": "markdown",
   "metadata": {
    "colab_type": "text",
    "id": "RDRvGgrKpPhp"
   },
   "source": [
    "Plot the validation accuracy saved in `hist.history` dictionary. This gives one accuracy value per epoch.  You should see that the validation accuracy saturates at a little higher than 99%.  After that it \"bounces around\" due to the noise in the stochastic gradient descent."
   ]
  },
  {
   "cell_type": "code",
   "execution_count": 18,
   "metadata": {
    "colab": {
     "base_uri": "https://localhost:8080/",
     "height": 283
    },
    "colab_type": "code",
    "id": "2ivUgXl3pPhp",
    "outputId": "addf954c-4f5d-4a1e-c006-39fcad8aaa1d"
   },
   "outputs": [
    {
     "data": {
      "image/png": "[encoded data removed]",
      "text/plain": [
       "<Figure size 432x288 with 1 Axes>"
      ]
     },
     "metadata": {
      "tags": []
     },
     "output_type": "display_data"
    }
   ],
   "source": [
    "# TODO\n",
    "tr_accuracy = hist.history['acc']\n",
    "val_accuracy = hist.history['val_acc']\n",
    "\n",
    "plt.plot(tr_accuracy)\n",
    "plt.plot(val_accuracy)\n",
    "plt.xlabel('epochs')\n",
    "plt.ylabel('accuarcy')\n",
    "plt.legend(['training accuracy', 'validation accuracy'])\n",
    "plt.show()"
   ]
  },
  {
   "cell_type": "markdown",
   "metadata": {
    "colab_type": "text",
    "id": "5YpxZ3eJpPhy"
   },
   "source": [
    "Plot the loss values saved in the `hist.history` dictionary.  You should see that the loss is steadily decreasing.  Use the `semilogy` plot."
   ]
  },
  {
   "cell_type": "code",
   "execution_count": 19,
   "metadata": {
    "colab": {
     "base_uri": "https://localhost:8080/",
     "height": 283
    },
    "colab_type": "code",
    "id": "u6B4gVuypPhz",
    "outputId": "47610926-80a6-4390-9cfb-bd7beb5f88c7"
   },
   "outputs": [
    {
     "data": {
      "image/png": "[encoded data removed]",
      "text/plain": [
       "<Figure size 432x288 with 1 Axes>"
      ]
     },
     "metadata": {
      "tags": []
     },
     "output_type": "display_data"
    }
   ],
   "source": [
    "# TODO\n",
    "losst = hist.history['val_loss']\n",
    "plt.semilogy(losst)\n",
    "plt.xlabel('epochs')\n",
    "plt.ylabel('Loss')\n",
    "plt.show()"
   ]
  },
  {
   "cell_type": "markdown",
   "metadata": {
    "colab_type": "text",
    "id": "KfamO0mApPh8"
   },
   "source": [
    "## Optimizing the Learning Rate\n",
    "\n",
    "One challenge in training neural networks is the selection of the learning rate.  Rerun the above code, trying four learning rates as shown in the vector `rates`.  For each learning rate:\n",
    "* clear the session\n",
    "* construct the network\n",
    "* select the optimizer.  Use the Adam optimizer with the appropriate learrning rate.\n",
    "* train the model for 20 epochs\n",
    "* save the accuracy and losses"
   ]
  },
  {
   "cell_type": "code",
   "execution_count": 20,
   "metadata": {
    "colab": {
     "base_uri": "https://localhost:8080/",
     "height": 255
    },
    "colab_type": "code",
    "id": "VkEOasZLpPh-",
    "outputId": "98f3989e-6842-462f-e5f7-c41a43914c7e"
   },
   "outputs": [
    {
     "name": "stdout",
     "output_type": "stream",
     "text": [
      "lr = 0.01 \n",
      " loss = [0.11217226755966998, 0.027860378261917278, 0.019828138212857855, 0.017799673178961743, 0.013682726899315368, 0.015493623042662504, 0.011133048085677211, 0.011441134338206736, 0.012322639542487735, 0.011897807875128544, 0.010663905068775672, 0.009948955758155242, 0.0084716926564563, 0.010058007149323738, 0.009681216778523271, 0.007441620877094425, 0.005850745055013419, 0.009200582402810284, 0.00889367820514803, 0.006849172145156677] \n",
      " accuracy = [0.9761809, 0.9871175, 0.97718734, 0.98872787, 0.979737, 0.98476917, 0.9876543, 0.9848363, 0.9836956, 0.9864466, 0.9873188, 0.98839235, 0.9868492, 0.9751744, 0.98409826, 0.9833602, 0.9807434, 0.98034084, 0.9876543, 0.98497045] \n",
      "\n",
      "lr = 0.001 \n",
      " loss = [0.3805894267025375, 0.0925669864070933, 0.05532514882676223, 0.038948402016239746, 0.029842852440454464, 0.023759632258730637, 0.019712132801913834, 0.01649434416283641, 0.013957691725942576, 0.012331296908605278, 0.010941096938435195, 0.00990637852981624, 0.008608646966902, 0.008053758896265981, 0.007321982813089426, 0.006710999486953723, 0.006470850727751988, 0.005908942786646577, 0.0053848906076879, 0.005237553158154064] \n",
      " accuracy = [0.9535024, 0.9782609, 0.98429954, 0.9880569, 0.98718464, 0.989533, 0.9865137, 0.99033815, 0.9904724, 0.990942, 0.993022, 0.99087495, 0.99235106, 0.99201554, 0.99255234, 0.99107623, 0.99282074, 0.99013686, 0.9912104, 0.9915459] \n",
      "\n",
      "lr = 0.0001 \n",
      " loss = [1.302692223654561, 0.5708345867903625, 0.38258103840905017, 0.29259326479993775, 0.23691423665641892, 0.19785930727248566, 0.16850904336637418, 0.14548576127054583, 0.1270815750512112, 0.11226684773336014, 0.10002546157719787, 0.08999397169106886, 0.08158892629157265, 0.07454441193148928, 0.06851822851776793, 0.06324819494003112, 0.05890516902468248, 0.05490036345975015, 0.051556335323776105, 0.048549408403530996] \n",
      " accuracy = [0.66854537, 0.82293344, 0.8818438, 0.9072061, 0.9177402, 0.9284085, 0.94269997, 0.94940954, 0.9561192, 0.95994365, 0.96282876, 0.96846485, 0.97329575, 0.9753757, 0.97792536, 0.977657, 0.9829576, 0.98570853, 0.98530596, 0.9851718] \n",
      "\n"
     ]
    }
   ],
   "source": [
    "rates = [0.01,0.001,0.0001]\n",
    "batch_size = 100\n",
    "loss_hist = []\n",
    "acc_hist = []\n",
    "\n",
    "# TODO\n",
    "for lr in rates:\n",
    "    K.clear_session()\n",
    "    # construct the network \n",
    "    nin = Xtr.shape[1]  # dimension of input data\n",
    "    nh = 256    # number of hidden units\n",
    "    nout = int(np.max(ytr)+1)  # number of outputs\n",
    "    model = Sequential()\n",
    "    model.add(Dense(units=nh, input_shape=(nin,), activation='sigmoid', name='hidden'))\n",
    "    model.add(Dense(units=nout, activation='sigmoid', name='output'))\n",
    "    \n",
    "    opt = optimizers.Adam(lr=lr)\n",
    "    model.compile(optimizer=opt,loss='sparse_categorical_crossentropy',metrics=['accuracy'])\n",
    "    hist = model.fit(Xtr_scale, ytr, epochs=20, batch_size=100, validation_data=(Xts_scale,yts), verbose=0)\n",
    "    \n",
    "    lossi = hist.history['loss']\n",
    "    acci = hist.history['val_acc']\n",
    "    loss_hist = np.append(loss_hist,lossi)\n",
    "    acc_hist = np.append(acc_hist,lossi)\n",
    "    print('lr =',lr,'\\n','loss =',lossi,'\\n','accuracy =',acci,'\\n')\n",
    "    \n",
    "loss = loss_hist.reshape(3,20)\n",
    "acc = acc_hist.reshape(3,20)"
   ]
  },
  {
   "cell_type": "markdown",
   "metadata": {
    "colab_type": "text",
    "id": "BGZeZg9UpPiH"
   },
   "source": [
    "Plot the loss funciton vs. the epoch number for all three learning rates on one graph.  You should see that the lower learning rates are more stable, but converge slower."
   ]
  },
  {
   "cell_type": "code",
   "execution_count": 21,
   "metadata": {
    "colab": {
     "base_uri": "https://localhost:8080/",
     "height": 283
    },
    "colab_type": "code",
    "id": "OvTHjoNbpPiJ",
    "outputId": "a9eb205d-a1b9-4bf6-a70b-5fb37b5685e1"
   },
   "outputs": [
    {
     "data": {
      "image/png": "[encoded data removed]",
      "text/plain": [
       "<Figure size 432x288 with 1 Axes>"
      ]
     },
     "metadata": {
      "tags": []
     },
     "output_type": "display_data"
    }
   ],
   "source": [
    "# TODO\n",
    "\n",
    "plt.semilogy(loss[0,:])\n",
    "plt.semilogy(loss[1,:])\n",
    "plt.semilogy(loss[2,:])\n",
    "plt.xlabel('epochs')\n",
    "plt.ylabel('Loss')\n",
    "plt.legend(['lr=0.01', 'lr=0.001', 'lr=0.0001'])\n",
    "plt.show()"
   ]
  },
  {
   "cell_type": "code",
   "execution_count": 0,
   "metadata": {
    "colab": {},
    "colab_type": "code",
    "id": "IObhY2G0pPiM"
   },
   "outputs": [],
   "source": []
  },
  {
   "cell_type": "code",
   "execution_count": 0,
   "metadata": {
    "colab": {},
    "colab_type": "code",
    "id": "0wfl6we_pPiW"
   },
   "outputs": [],
   "source": []
  }
 ],
 "metadata": {
  "accelerator": "GPU",
  "colab": {
   "collapsed_sections": [],
   "name": "lab_music_partial.ipynb",
   "provenance": [],
   "toc_visible": true,
   "version": "0.3.2"
  },
  "kernelspec": {
   "display_name": "Python 3",
   "language": "python",
   "name": "python3"
  },
  "language_info": {
   "codemirror_mode": {
    "name": "ipython",
    "version": 3
   },
   "file_extension": ".py",
   "mimetype": "text/x-python",
   "name": "python",
   "nbconvert_exporter": "python",
   "pygments_lexer": "ipython3",
   "version": "3.6.5"
  }
 },
 "nbformat": 4,
 "nbformat_minor": 1
}
